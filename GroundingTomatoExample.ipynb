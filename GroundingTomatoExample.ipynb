{
 "cells": [
  {
   "cell_type": "markdown",
   "metadata": {},
   "source": [
    "# TOMATO for Humans and Machines\n",
    "### An example and challenge to compare human and artificial intelligence on a simple everyday thing "
   ]
  },
  {
   "cell_type": "markdown",
   "metadata": {},
   "source": [
    "### Introduction  \n",
    "How do we as humans learn what tomatoes are and what they mean to us? As humans we have five senses, which we use to percieve the world. \n",
    "These are:\n",
    "\n",
    "| Abbreviation | Sense |\n",
    "|:---------:|:-------|\n",
    "| Si | Sight |\n",
    "| He | Hearing |\n",
    "| Sm | Smell |\n",
    "| Ta | Taste |\n",
    "| To | Touch |\n",
    "\n",
    "Computers and Machine Learning(ML)/Deep Learning(DL) research currently use mainly two of the senses comparable with human senses to percive the world. These are [Si] and [He], enabled by availability of digital image, video and sound recordings. \n",
    "\n",
    "The Tomato example in this notebook lists human sensing and perception pairs as a challenge for AI and ML/DL systems to achieve general adult human level perception on tomatoes and their meaning.\n",
    "\n",
    "The format of the example is following:\n",
    "\n",
    "| Perception | Sensing involved | Context |\n",
    "|:---|:---:|:---|\n",
    "\n",
    "The perceptions are assumed to be cumulative in nature, allowing learning based on multiple sequential or parallel perceptions.\n",
    "\n"
   ]
  },
  {
   "cell_type": "markdown",
   "metadata": {},
   "source": [
    "### Example set of perceptions on a tomato\n",
    "| Perception | Sensing involved | Context |\n",
    "|:---|:---:|:---|\n",
    "| Circular thing | Si | a baby viewing a tomato, 0-5 months (2D bw)|\n",
    "| Red roundish thing | Si | a baby viewing a tomato, 5 months (3D colors) | \n",
    "| Red roundish solid thing | Si, To | a baby touching a tomato, 8-10 months (3D colors, physical shape and texture) |\n",
    "| Red roundish edible thing | Si, Sm, Ta, To | a baby grabbing and tasting a tomato |\n",
    "| A tomato | Si, He | a child hearing the word tomato from an adult when tomato is visible to him/her|\n",
    "| Tomato is a vegetable | He, Si | a child hears or reads that tomatoes are vegetables |\n",
    "| Tomato is a fruit of a tomato plant | He, Si | a child hears or reads that tomato is a fruit of a tomato plant |\n",
    "| Tomatoes can be self grown | He, Si | a child hears or reads about gardening | \n",
    "| Vegetables and Fruits are produced by farming | He, Si | a child hears or reads about farming |\n",
    "| Tomatoes are good source of vitamin C, K and A | He, Si | an adult hearing or reading about nutrition contents of a tomato |"
   ]
  },
  {
   "cell_type": "markdown",
   "metadata": {},
   "source": [
    "### Test questions for Humans and AI assuming the example perceptions\n",
    "\n",
    "1. What color is tomato?\n",
    "2. What shape is tomato?\n",
    "3. How tomatoes are produced?\n",
    "4. What should I do if I need more vitamin C?"
   ]
  },
  {
   "cell_type": "markdown",
   "metadata": {},
   "source": [
    "### Example data for the perceptions on tomatoes\n",
    "Image dataset of tomatoes...tbd.\n",
    "\n",
    "Wikipedia...tbd.\n",
    "\n",
    "General ontologies...tbd.\n"
   ]
  },
  {
   "cell_type": "code",
   "execution_count": 2,
   "metadata": {
    "collapsed": true
   },
   "outputs": [],
   "source": [
    "# Solution examples on AI & ML/DL in code... :)"
   ]
  },
  {
   "cell_type": "code",
   "execution_count": null,
   "metadata": {
    "collapsed": true
   },
   "outputs": [],
   "source": []
  },
  {
   "cell_type": "code",
   "execution_count": null,
   "metadata": {
    "collapsed": true
   },
   "outputs": [],
   "source": []
  }
 ],
 "metadata": {
  "kernelspec": {
   "display_name": "Python 3",
   "language": "python",
   "name": "python3"
  },
  "language_info": {
   "codemirror_mode": {
    "name": "ipython",
    "version": 3
   },
   "file_extension": ".py",
   "mimetype": "text/x-python",
   "name": "python",
   "nbconvert_exporter": "python",
   "pygments_lexer": "ipython3",
   "version": "3.6.1"
  }
 },
 "nbformat": 4,
 "nbformat_minor": 2
}
